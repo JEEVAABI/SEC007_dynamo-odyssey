{
  "nbformat": 4,
  "nbformat_minor": 0,
  "metadata": {
    "colab": {
      "provenance": []
    },
    "kernelspec": {
      "name": "python3",
      "display_name": "Python 3"
    },
    "language_info": {
      "name": "python"
    }
  },
  "cells": [
    {
      "cell_type": "code",
      "execution_count": 1,
      "metadata": {
        "id": "weNZriaNlBZg"
      },
      "outputs": [],
      "source": [
        "import numpy as np\n",
        "import tensorflow as tf\n",
        "from tensorflow import keras\n",
        "from tensorflow.keras.layers import Embedding, LSTM, Dense\n",
        "from tensorflow.keras.models import Model\n",
        "from tensorflow.keras.preprocessing.text import Tokenizer\n",
        "from tensorflow.keras.preprocessing.sequence import pad_sequences\n"
      ]
    },
    {
      "cell_type": "code",
      "source": [
        "# Generate random English and Tamil sentences for demonstration (replace with your dataset)\n",
        "english_sentences = [\n",
        "    \"Hello, how are you?\",\n",
        "    \"I like machine learning.\",\n",
        "    \"Translate this text.\",\n",
        "]\n",
        "tamil_sentences = [\n",
        "    \"வணக்கம், நீங்கள் எப்படி?\",\n",
        "    \"நான் இயந்திர கற்பதை பிடிக்கிறேன்.\",\n",
        "    \"இந்த உரையை மொழிபெயர் செய்க.\",\n",
        "]\n"
      ],
      "metadata": {
        "id": "b9REQ1DnlDQB"
      },
      "execution_count": 2,
      "outputs": []
    },
    {
      "cell_type": "code",
      "source": [
        "# Tokenize English and Tamil sentences using word-level tokenization\n",
        "tokenizer_en = Tokenizer()  # Word-level tokenizer\n",
        "tokenizer_en.fit_on_texts(english_sentences)\n",
        "english_sequences = tokenizer_en.texts_to_sequences(english_sentences)\n"
      ],
      "metadata": {
        "id": "iF0lXhL4lNeG"
      },
      "execution_count": 3,
      "outputs": []
    },
    {
      "cell_type": "code",
      "source": [
        "tokenizer_ta = Tokenizer()  # Word-level tokenizer\n",
        "tokenizer_ta.fit_on_texts(tamil_sentences)\n",
        "tamil_sequences = tokenizer_ta.texts_to_sequences(tamil_sentences)\n"
      ],
      "metadata": {
        "id": "loB4RESxlPya"
      },
      "execution_count": 4,
      "outputs": []
    },
    {
      "cell_type": "code",
      "source": [
        "# Pad sequences for model input\n",
        "max_len = max(len(seq) for seq in english_sequences)\n",
        "english_sequences = pad_sequences(english_sequences, maxlen=max_len, padding='post')\n",
        "tamil_sequences = pad_sequences(tamil_sequences, maxlen=max_len, padding='post')\n"
      ],
      "metadata": {
        "id": "iVjB27D7lRiY"
      },
      "execution_count": 5,
      "outputs": []
    },
    {
      "cell_type": "code",
      "source": [
        "# Create an encoder-decoder model\n",
        "vocab_size_en = len(tokenizer_en.word_index) + 1\n",
        "vocab_size_ta = len(tokenizer_ta.word_index) + 1\n",
        "embedding_dim = 256\n"
      ],
      "metadata": {
        "id": "JhcnrSePlUNJ"
      },
      "execution_count": 6,
      "outputs": []
    },
    {
      "cell_type": "code",
      "source": [
        "input_layer = keras.layers.Input(shape=(max_len,))\n",
        "encoder = Embedding(input_dim=vocab_size_en, output_dim=embedding_dim)(input_layer)\n",
        "encoder = LSTM(256, return_sequences=True)(encoder)\n"
      ],
      "metadata": {
        "id": "UmyJIBfXlV8Y"
      },
      "execution_count": 7,
      "outputs": []
    },
    {
      "cell_type": "code",
      "source": [
        "decoder = LSTM(256, return_sequences=True)(encoder)\n",
        "output_layer = Dense(vocab_size_ta, activation='softmax')(decoder)\n"
      ],
      "metadata": {
        "id": "MoSWLIddlXhS"
      },
      "execution_count": 8,
      "outputs": []
    },
    {
      "cell_type": "code",
      "source": [
        "model = Model(input_layer, output_layer)\n"
      ],
      "metadata": {
        "id": "EXXw4DC5lZcG"
      },
      "execution_count": 9,
      "outputs": []
    },
    {
      "cell_type": "code",
      "source": [
        "model.compile(optimizer='adam', loss='categorical_crossentropy')\n"
      ],
      "metadata": {
        "id": "ckXWLo4AleIl"
      },
      "execution_count": 10,
      "outputs": []
    },
    {
      "cell_type": "code",
      "source": [
        "# Train the model with one-hot encoded target sequences (provide your training data)\n",
        "# tamil_sequences_onehot = tf.one_hot(tamil_sequences, depth=vocab_size_ta)\n",
        "# model.fit(english_sequences, tamil_sequences_onehot, epochs=100)\n"
      ],
      "metadata": {
        "id": "YULNQrd1liJ9"
      },
      "execution_count": 11,
      "outputs": []
    },
    {
      "cell_type": "code",
      "source": [
        "# Inference: Translate English to Tamil\n",
        "def translate_to_tamil(input_text):\n",
        "    input_sequence = tokenizer_en.texts_to_sequences([input_text])\n",
        "    input_sequence = pad_sequences(input_sequence, maxlen=max_len, padding='post')\n",
        "    prediction = model.predict(input_sequence)\n",
        "    predicted_sequence = np.argmax(prediction, axis=-1)\n",
        "    tamil_text = tokenizer_ta.sequences_to_texts(predicted_sequence)[0]\n",
        "    return tamil_text\n"
      ],
      "metadata": {
        "id": "4MJ5QkyCllRw"
      },
      "execution_count": 12,
      "outputs": []
    },
    {
      "cell_type": "code",
      "source": [
        "# Test translation\n",
        "input_text = \"How are you?\"\n",
        "tamil_translation = translate_to_tamil(input_text)\n",
        "print(f\"English: {input_text}\")\n",
        "print(f\"Tamil: {tamil_translation}\")"
      ],
      "metadata": {
        "colab": {
          "base_uri": "https://localhost:8080/"
        },
        "id": "Ctl87jOClnRY",
        "outputId": "5a98828d-37c8-425f-c1cf-78a3ef453412"
      },
      "execution_count": 13,
      "outputs": [
        {
          "output_type": "stream",
          "name": "stdout",
          "text": [
            "1/1 [==============================] - 1s 1s/step\n",
            "English: How are you?\n",
            "Tamil: வணக்கம் மொழிபெயர் மொழிபெயர் இயந்திர\n"
          ]
        }
      ]
    },
    {
      "cell_type": "code",
      "source": [],
      "metadata": {
        "id": "Lwiclcq8lpPt"
      },
      "execution_count": null,
      "outputs": []
    }
  ]
}